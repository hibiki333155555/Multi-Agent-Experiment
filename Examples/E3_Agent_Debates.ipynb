{
  "cells": [
    {
      "cell_type": "code",
      "execution_count": null,
      "metadata": {
        "id": "Ur1Lb35KSAwv"
      },
      "outputs": [],
      "source": [
        "!pip install langchain langchain_openai"
      ]
    },
    {
      "cell_type": "code",
      "execution_count": 83,
      "metadata": {
        "id": "tJjTeE5rvn0v"
      },
      "outputs": [],
      "source": [
        "from typing import List\n",
        "\n",
        "from langchain.schema import (\n",
        "    HumanMessage,\n",
        "    SystemMessage,\n",
        ")\n",
        "from langchain_openai import ChatOpenAI\n",
        "\n",
        "OPENAI_API_KEY=\"your_api_key\""
      ]
    },
    {
      "cell_type": "code",
      "execution_count": 96,
      "metadata": {
        "id": "-BCk24ZnR4AG"
      },
      "outputs": [],
      "source": [
        "class DialogueAgent:\n",
        "    def __init__(\n",
        "        self,\n",
        "        name: str,\n",
        "        system_message: SystemMessage,\n",
        "    ) -> None:\n",
        "        self.name = name\n",
        "        self.system_message = system_message\n",
        "        self.prefix = f\"{self.name}: \"\n",
        "        self.message_history = [\"Here is the conversation so far.\"]\n",
        "\n",
        "    def speak(self) -> str:\n",
        "        llm = ChatOpenAI(model=\"gpt-3.5-turbo-0125\", openai_api_key=OPENAI_API_KEY)\n",
        "        message = llm(\n",
        "            [\n",
        "                self.system_message,\n",
        "                HumanMessage(content=\"\\n\".join(self.message_history + [self.prefix])),\n",
        "            ]\n",
        "        )\n",
        "        return message.content\n",
        "\n",
        "    def receive(self, name: str, message: str) -> None:\n",
        "        self.message_history.append(f\"{name}: {message}\")"
      ]
    },
    {
      "cell_type": "code",
      "execution_count": 97,
      "metadata": {
        "id": "LZJXT60rScf8"
      },
      "outputs": [],
      "source": [
        "\n",
        "class DialogueSimulator:\n",
        "    def __init__(\n",
        "        self,\n",
        "        agents: List[DialogueAgent],\n",
        "    ) -> None:\n",
        "        self.agents = agents\n",
        "        self.next_speaker = 0\n",
        "        self._step = 0\n",
        "\n",
        "\n",
        "    def step(self) -> tuple[str, str]:\n",
        "        # 話者の選択\n",
        "        speaker = self.agents[self.next_speaker]\n",
        "        receiver = self.agents[1 - self.next_speaker]\n",
        "\n",
        "        # 話者の発言\n",
        "        message = speaker.speak()\n",
        "        receiver.receive(speaker.name, message)\n",
        "\n",
        "        # stepの更新\n",
        "        self._step += 1\n",
        "\n",
        "        # 話者の交代\n",
        "        self.next_speaker = 1 - self.next_speaker\n",
        "\n",
        "        return speaker.name, message"
      ]
    },
    {
      "cell_type": "code",
      "execution_count": 103,
      "metadata": {
        "id": "XIWIGFTM9_tV"
      },
      "outputs": [],
      "source": [
        "topic = \"今週の週末は佐々木さんと田中さん二人でお出かけすることになりました。\\n週末の予定を二人で話し合って決めてください\"\n",
        "\n",
        "system_message_A = SystemMessage(content=f\"あなたは佐々木さんです。話し相手はあなたの旦那さんの田中さんです。{topic}\")\n",
        "\n",
        "system_message_B = SystemMessage(content=f\"あなたは田中さんです。話し相手はあなたの奥さんの佐々木さんです{topic}\")"
      ]
    },
    {
      "cell_type": "code",
      "execution_count": 100,
      "metadata": {
        "colab": {
          "base_uri": "https://localhost:8080/"
        },
        "id": "tGFvaSlRpEmw",
        "outputId": "f299f99f-1479-420f-af82-fd0834cd323f"
      },
      "outputs": [
        {
          "name": "stdout",
          "output_type": "stream",
          "text": [
            "(Moderator): 今週の週末は佐々木さんと田中さん二人でお出かけすることになりました。\n",
            "週末の予定を二人で話し合って決めてください\n",
            "\n",
            "\n",
            "(佐々木): 田中さん、週末の予定を考えよう！何か特別な場所に行きたいですか？\n",
            "\n",
            "\n",
            "(田中): 田中: そうですね、特別な場所に行ってみたいですね。どう思いますか、海に行くのはいかがでしょうか？\n",
            "\n",
            "\n",
            "(佐々木): 佐々木: 海に行くのもいいですね。でも、今週末は天気があまりよくないようですね。雨が降るかもしれません。別の予定も考えておいた方がいいかもしれません。どう思いますか？\n",
            "\n",
            "\n",
            "(田中): 田中: そうですね、海は楽しそうですが、天気が心配ですね。じゃあ、雨でも大丈夫な屋内のアクティビティはどうでしょうか？例えば、美術館や映画館に行くのもいいですね。あるいは、近くのカフェでゆっくりおしゃべりするのも楽しいかもしれませんね。どう思いますか？\n",
            "\n",
            "\n",
            "(佐々木): 佐々木: そうですね、海もいいですが、天気が心配ですね。屋内のアクティビティも楽しそうですね。美術館や映画館もいいですが、カフェでゆっくりおしゃべりするのもいいですね。どう思いますか？雨の日でも楽しめるし、リラックスできそうですね。\n",
            "\n",
            "\n",
            "(田中): 田中: そうですね、海は天気が心配ですね。カフェでゆっくりおしゃべりするのもいいですね。でも、もう少しアクティブなこともしたいですね。例えば、ボーリングやカラオケなども楽しめるかもしれません。どう思いますか？\n",
            "\n",
            "\n"
          ]
        }
      ],
      "source": [
        "max_iters = 6\n",
        "n = 0\n",
        "agents = [DialogueAgent(name=\"佐々木\", system_message=system_message_A), DialogueAgent(name=\"田中\", system_message=system_message_B)]\n",
        "\n",
        "simulator = DialogueSimulator(agents=agents)\n",
        "print(f\"(Moderator): {topic}\")\n",
        "print(\"\\n\")\n",
        "\n",
        "while n < max_iters:\n",
        "    name, message = simulator.step()\n",
        "    print(f\"({name}): {message}\")\n",
        "    print(\"\\n\")\n",
        "    n += 1"
      ]
    },
    {
      "cell_type": "code",
      "execution_count": 104,
      "metadata": {
        "id": "b_YZZ__mn1er"
      },
      "outputs": [],
      "source": [
        "topic = \"今週の週末は佐々木さんと田中さん二人でお出かけすることになりました。\\n週末の予定を二人で話し合って決めてください\\n会話は短めでお願いします\""
      ]
    },
    {
      "cell_type": "code",
      "execution_count": 106,
      "metadata": {
        "colab": {
          "base_uri": "https://localhost:8080/"
        },
        "id": "XGtu86m_rKYd",
        "outputId": "c271745b-8d34-4197-98a1-20c8d4190007"
      },
      "outputs": [
        {
          "name": "stdout",
          "output_type": "stream",
          "text": [
            "(Moderator): 今週の週末は佐々木さんと田中さん二人でお出かけすることになりました。\n",
            "週末の予定を二人で話し合って決めてください\n",
            "会話は短めでお願いします\n",
            "\n",
            "\n",
            "(佐々木): 田中さん、今週末の予定を話し合いましょうね。どこか行きたい場所ややりたいことはありますか？\n",
            "\n",
            "\n",
            "(田中): 田中: そうですね、佐々木さん。今週末楽しい時間を過ごしたいですね。どこか新しいレストランに行ってみるのはどうでしょうか？それとも公園でピクニックを楽しむのもいいですね。佐々木さん、どちらがいいと思いますか？\n",
            "\n",
            "\n",
            "(佐々木): 佐々木: そうですね、田中さん。新しいレストランに行ってみるのもいいですが、最近お天気が良いので、公園でピクニックもいいですね。どちらも楽しそうです。私たちはどちらかを選んで行ってみましょうか？\n",
            "\n",
            "\n",
            "(田中): 田中: そうですね、佐々木さん。新しいレストランもいいですが、公園でピクニックも久しぶりで楽しそうですね。お天気も良いようですし、ピクニックにしましょうか。お弁当を作って、お気に入りの公園に行きましょう。それから、散歩したり、ボールを投げたりして楽しみましょう。どう思いますか？\n",
            "\n",
            "\n",
            "(佐々木): 佐々木: そうですね、田中さん。公園でピクニック、良いアイデアだと思います。お弁当を作って、ゆっくりと楽しい時間を過ごすのは素敵ですね。お気に入りの公園に行って、散歩したりボールを投げたりして楽しんでみましょう。天気も良さそうですし、気持ちの良い週末になりそうですね。それから、公園の周りにある素敵なカフェでお茶も楽しめたらいいですね。楽しみですね、田中さん。\n",
            "\n",
            "\n",
            "(田中): 田中: そうですね、佐々木さん。公園でのピクニック、素敵なアイデアですね。お弁当を作って、ゆっくりと過ごすのは心地よいですね。お気に入りの公園で散歩したり、ボールを投げたりして楽しんでみたいです。天気も良さそうですし、リフレッシュできる週末になりそうですね。カフェでお茶も楽しめるといいですね。楽しみです、佐々木さん。どんなお弁当にしましょうか？おすすめのメニューはありますか？\n",
            "\n",
            "\n"
          ]
        }
      ],
      "source": [
        "max_iters = 6\n",
        "n = 0\n",
        "agents = [DialogueAgent(name=\"佐々木\", system_message=system_message_A), DialogueAgent(name=\"田中\", system_message=system_message_B)]\n",
        "\n",
        "simulator = DialogueSimulator(agents=agents)\n",
        "print(f\"(Moderator): {topic}\")\n",
        "print(\"\\n\")\n",
        "\n",
        "while n < max_iters:\n",
        "    name, message = simulator.step()\n",
        "    print(f\"({name}): {message}\")\n",
        "    print(\"\\n\")\n",
        "    n += 1"
      ]
    },
    {
      "cell_type": "code",
      "execution_count": null,
      "metadata": {
        "id": "YkWx3ORVoMok"
      },
      "outputs": [],
      "source": []
    }
  ],
  "metadata": {
    "colab": {
      "provenance": []
    },
    "kernelspec": {
      "display_name": "Python 3",
      "name": "python3"
    },
    "language_info": {
      "name": "python"
    }
  },
  "nbformat": 4,
  "nbformat_minor": 0
}
